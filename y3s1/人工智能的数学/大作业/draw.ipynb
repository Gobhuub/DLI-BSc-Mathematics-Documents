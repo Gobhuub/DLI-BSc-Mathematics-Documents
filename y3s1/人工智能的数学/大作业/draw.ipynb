{
 "cells": [
  {
   "cell_type": "code",
   "execution_count": 1,
   "metadata": {},
   "outputs": [
    {
     "name": "stderr",
     "output_type": "stream",
     "text": [
      "c:\\Users\\24871\\anaconda3\\envs\\kaggle\\lib\\site-packages\\torch\\nn\\modules\\conv.py:131: UserWarning: Failed to initialize NumPy: No module named 'numpy.core' (Triggered internally at  C:\\cb\\pytorch_1000000000000\\work\\torch\\csrc\\utils\\tensor_numpy.cpp:68.)\n",
      "  self.weight = Parameter(torch.empty(\n"
     ]
    },
    {
     "ename": "AttributeError",
     "evalue": "module 'numpy' has no attribute 'float64'",
     "output_type": "error",
     "traceback": [
      "\u001b[1;31m---------------------------------------------------------------------------\u001b[0m",
      "\u001b[1;31mKeyError\u001b[0m                                  Traceback (most recent call last)",
      "File \u001b[1;32mc:\\Users\\24871\\anaconda3\\envs\\kaggle\\lib\\site-packages\\traitlets\\traitlets.py:645\u001b[0m, in \u001b[0;36mTraitType.get\u001b[1;34m(self, obj, cls)\u001b[0m\n\u001b[0;32m    644\u001b[0m \u001b[39mtry\u001b[39;00m:\n\u001b[1;32m--> 645\u001b[0m     value \u001b[39m=\u001b[39m obj\u001b[39m.\u001b[39;49m_trait_values[\u001b[39mself\u001b[39;49m\u001b[39m.\u001b[39;49mname]\n\u001b[0;32m    646\u001b[0m \u001b[39mexcept\u001b[39;00m \u001b[39mKeyError\u001b[39;00m:\n\u001b[0;32m    647\u001b[0m     \u001b[39m# Check for a dynamic initializer.\u001b[39;00m\n",
      "\u001b[1;31mKeyError\u001b[0m: 'type_printers'",
      "\nDuring handling of the above exception, another exception occurred:\n",
      "\u001b[1;31mAttributeError\u001b[0m                            Traceback (most recent call last)",
      "File \u001b[1;32mc:\\Users\\24871\\anaconda3\\envs\\kaggle\\lib\\site-packages\\IPython\\core\\formatters.py:705\u001b[0m, in \u001b[0;36mPlainTextFormatter.__call__\u001b[1;34m(self, obj)\u001b[0m\n\u001b[0;32m    699\u001b[0m \u001b[39melse\u001b[39;00m:\n\u001b[0;32m    700\u001b[0m     stream \u001b[39m=\u001b[39m StringIO()\n\u001b[0;32m    701\u001b[0m     printer \u001b[39m=\u001b[39m pretty\u001b[39m.\u001b[39mRepresentationPrinter(stream, \u001b[39mself\u001b[39m\u001b[39m.\u001b[39mverbose,\n\u001b[0;32m    702\u001b[0m         \u001b[39mself\u001b[39m\u001b[39m.\u001b[39mmax_width, \u001b[39mself\u001b[39m\u001b[39m.\u001b[39mnewline,\n\u001b[0;32m    703\u001b[0m         max_seq_length\u001b[39m=\u001b[39m\u001b[39mself\u001b[39m\u001b[39m.\u001b[39mmax_seq_length,\n\u001b[0;32m    704\u001b[0m         singleton_pprinters\u001b[39m=\u001b[39m\u001b[39mself\u001b[39m\u001b[39m.\u001b[39msingleton_printers,\n\u001b[1;32m--> 705\u001b[0m         type_pprinters\u001b[39m=\u001b[39m\u001b[39mself\u001b[39;49m\u001b[39m.\u001b[39;49mtype_printers,\n\u001b[0;32m    706\u001b[0m         deferred_pprinters\u001b[39m=\u001b[39m\u001b[39mself\u001b[39m\u001b[39m.\u001b[39mdeferred_printers)\n\u001b[0;32m    707\u001b[0m     printer\u001b[39m.\u001b[39mpretty(obj)\n\u001b[0;32m    708\u001b[0m     printer\u001b[39m.\u001b[39mflush()\n",
      "File \u001b[1;32mc:\\Users\\24871\\anaconda3\\envs\\kaggle\\lib\\site-packages\\traitlets\\traitlets.py:686\u001b[0m, in \u001b[0;36mTraitType.__get__\u001b[1;34m(self, obj, cls)\u001b[0m\n\u001b[0;32m    684\u001b[0m     \u001b[39mreturn\u001b[39;00m \u001b[39mself\u001b[39m\n\u001b[0;32m    685\u001b[0m \u001b[39melse\u001b[39;00m:\n\u001b[1;32m--> 686\u001b[0m     \u001b[39mreturn\u001b[39;00m \u001b[39mself\u001b[39;49m\u001b[39m.\u001b[39;49mget(obj, \u001b[39mcls\u001b[39;49m)\n",
      "File \u001b[1;32mc:\\Users\\24871\\anaconda3\\envs\\kaggle\\lib\\site-packages\\traitlets\\traitlets.py:648\u001b[0m, in \u001b[0;36mTraitType.get\u001b[1;34m(self, obj, cls)\u001b[0m\n\u001b[0;32m    645\u001b[0m     value \u001b[39m=\u001b[39m obj\u001b[39m.\u001b[39m_trait_values[\u001b[39mself\u001b[39m\u001b[39m.\u001b[39mname]\n\u001b[0;32m    646\u001b[0m \u001b[39mexcept\u001b[39;00m \u001b[39mKeyError\u001b[39;00m:\n\u001b[0;32m    647\u001b[0m     \u001b[39m# Check for a dynamic initializer.\u001b[39;00m\n\u001b[1;32m--> 648\u001b[0m     default \u001b[39m=\u001b[39m obj\u001b[39m.\u001b[39;49mtrait_defaults(\u001b[39mself\u001b[39;49m\u001b[39m.\u001b[39;49mname)\n\u001b[0;32m    649\u001b[0m     \u001b[39mif\u001b[39;00m default \u001b[39mis\u001b[39;00m Undefined:\n\u001b[0;32m    650\u001b[0m         warn(\n\u001b[0;32m    651\u001b[0m             \u001b[39m\"\u001b[39m\u001b[39mExplicit using of Undefined as the default value \u001b[39m\u001b[39m\"\u001b[39m\n\u001b[0;32m    652\u001b[0m             \u001b[39m\"\u001b[39m\u001b[39mis deprecated in traitlets 5.0, and may cause \u001b[39m\u001b[39m\"\u001b[39m\n\u001b[1;32m   (...)\u001b[0m\n\u001b[0;32m    655\u001b[0m             stacklevel\u001b[39m=\u001b[39m\u001b[39m2\u001b[39m,\n\u001b[0;32m    656\u001b[0m         )\n",
      "File \u001b[1;32mc:\\Users\\24871\\anaconda3\\envs\\kaggle\\lib\\site-packages\\traitlets\\traitlets.py:1752\u001b[0m, in \u001b[0;36mHasTraits.trait_defaults\u001b[1;34m(self, *names, **metadata)\u001b[0m\n\u001b[0;32m   1749\u001b[0m         \u001b[39mraise\u001b[39;00m TraitError(\u001b[39mf\u001b[39m\u001b[39m\"\u001b[39m\u001b[39m'\u001b[39m\u001b[39m{\u001b[39;00mn\u001b[39m}\u001b[39;00m\u001b[39m'\u001b[39m\u001b[39m is not a trait of \u001b[39m\u001b[39m'\u001b[39m\u001b[39m{\u001b[39;00m\u001b[39mtype\u001b[39m(\u001b[39mself\u001b[39m)\u001b[39m.\u001b[39m\u001b[39m__name__\u001b[39m\u001b[39m}\u001b[39;00m\u001b[39m'\u001b[39m\u001b[39m instances\u001b[39m\u001b[39m\"\u001b[39m)\n\u001b[0;32m   1751\u001b[0m \u001b[39mif\u001b[39;00m \u001b[39mlen\u001b[39m(names) \u001b[39m==\u001b[39m \u001b[39m1\u001b[39m \u001b[39mand\u001b[39;00m \u001b[39mlen\u001b[39m(metadata) \u001b[39m==\u001b[39m \u001b[39m0\u001b[39m:\n\u001b[1;32m-> 1752\u001b[0m     \u001b[39mreturn\u001b[39;00m \u001b[39mself\u001b[39;49m\u001b[39m.\u001b[39;49m_get_trait_default_generator(names[\u001b[39m0\u001b[39;49m])(\u001b[39mself\u001b[39;49m)\n\u001b[0;32m   1754\u001b[0m trait_names \u001b[39m=\u001b[39m \u001b[39mself\u001b[39m\u001b[39m.\u001b[39mtrait_names(\u001b[39m*\u001b[39m\u001b[39m*\u001b[39mmetadata)\n\u001b[0;32m   1755\u001b[0m trait_names\u001b[39m.\u001b[39mextend(names)\n",
      "File \u001b[1;32mc:\\Users\\24871\\anaconda3\\envs\\kaggle\\lib\\site-packages\\traitlets\\traitlets.py:1132\u001b[0m, in \u001b[0;36mEventHandler.__call__\u001b[1;34m(self, *args, **kwargs)\u001b[0m\n\u001b[0;32m   1130\u001b[0m \u001b[39m\"\"\"Pass `*args` and `**kwargs` to the handler's function if it exists.\"\"\"\u001b[39;00m\n\u001b[0;32m   1131\u001b[0m \u001b[39mif\u001b[39;00m \u001b[39mhasattr\u001b[39m(\u001b[39mself\u001b[39m, \u001b[39m\"\u001b[39m\u001b[39mfunc\u001b[39m\u001b[39m\"\u001b[39m):\n\u001b[1;32m-> 1132\u001b[0m     \u001b[39mreturn\u001b[39;00m \u001b[39mself\u001b[39m\u001b[39m.\u001b[39mfunc(\u001b[39m*\u001b[39margs, \u001b[39m*\u001b[39m\u001b[39m*\u001b[39mkwargs)\n\u001b[0;32m   1133\u001b[0m \u001b[39melse\u001b[39;00m:\n\u001b[0;32m   1134\u001b[0m     \u001b[39mreturn\u001b[39;00m \u001b[39mself\u001b[39m\u001b[39m.\u001b[39m_init_call(\u001b[39m*\u001b[39margs, \u001b[39m*\u001b[39m\u001b[39m*\u001b[39mkwargs)\n",
      "File \u001b[1;32mc:\\Users\\24871\\anaconda3\\envs\\kaggle\\lib\\site-packages\\IPython\\core\\formatters.py:685\u001b[0m, in \u001b[0;36mPlainTextFormatter._type_printers_default\u001b[1;34m(self)\u001b[0m\n\u001b[0;32m    682\u001b[0m \u001b[39mif\u001b[39;00m \u001b[39m\"\u001b[39m\u001b[39mnumpy\u001b[39m\u001b[39m\"\u001b[39m \u001b[39min\u001b[39;00m sys\u001b[39m.\u001b[39mmodules:\n\u001b[0;32m    683\u001b[0m     \u001b[39mimport\u001b[39;00m \u001b[39mnumpy\u001b[39;00m\n\u001b[1;32m--> 685\u001b[0m     d[numpy\u001b[39m.\u001b[39;49mfloat64] \u001b[39m=\u001b[39m \u001b[39mlambda\u001b[39;00m obj, p, cycle: p\u001b[39m.\u001b[39mtext(\u001b[39mself\u001b[39m\u001b[39m.\u001b[39mfloat_format \u001b[39m%\u001b[39m obj)\n\u001b[0;32m    686\u001b[0m \u001b[39mreturn\u001b[39;00m d\n",
      "\u001b[1;31mAttributeError\u001b[0m: module 'numpy' has no attribute 'float64'"
     ]
    }
   ],
   "source": [
    "import torch\n",
    "from torch import nn\n",
    "\n",
    "\n",
    "# 为了方便起见，我们定义了一个计算卷积层的函数。\n",
    "# 此函数初始化卷积层权重，并对输入和输出提高和缩减相应的维数\n",
    "def comp_conv2d(conv2d, X):\n",
    "    # 这里的（1，1）表示批量大小和通道数都是1\n",
    "    X = X.reshape((1, 1) + X.shape)\n",
    "    Y = conv2d(X)\n",
    "    # 省略前两个维度：批量大小和通道\n",
    "    return Y.reshape(Y.shape[2:])\n",
    "\n",
    "# 请注意，这里每边都填充了1行或1列，因此总共添加了2行或2列\n",
    "conv2d = nn.Conv2d(1, 1, kernel_size=3, padding=1)\n",
    "X = torch.rand(size=(8, 8))\n",
    "comp_conv2d(conv2d, X).shape"
   ]
  }
 ],
 "metadata": {
  "kernelspec": {
   "display_name": "kaggle",
   "language": "python",
   "name": "python3"
  },
  "language_info": {
   "codemirror_mode": {
    "name": "ipython",
    "version": 3
   },
   "file_extension": ".py",
   "mimetype": "text/x-python",
   "name": "python",
   "nbconvert_exporter": "python",
   "pygments_lexer": "ipython3",
   "version": "3.9.13"
  },
  "orig_nbformat": 4,
  "vscode": {
   "interpreter": {
    "hash": "b53206568ba8440bf6a0ccf19fb373d7d64c27b5e1ad4eabac776e18dfc2f672"
   }
  }
 },
 "nbformat": 4,
 "nbformat_minor": 2
}
